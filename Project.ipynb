{
 "cells": [
  {
   "cell_type": "code",
   "execution_count": 4,
   "id": "f1555ea8-7363-4110-9247-7aff919bf9ae",
   "metadata": {
    "ExecuteTime": {
     "end_time": "2025-08-08T07:16:39.078880Z",
     "start_time": "2025-08-08T07:16:39.069755Z"
    },
    "tags": []
   },
   "outputs": [],
   "source": [
    "########################################\n",
    "#             PATH SETUP\n",
    "########################################\n",
    "\n",
    "import sys\n",
    "import os\n",
    "sys.path.insert(0, os.path.abspath(\".\"))\n",
    "\n",
    "########################################\n",
    "#             LIBRERIES SETUP\n",
    "########################################\n",
    "import numpy as np\n",
    "import pandas as pd\n",
    "import matplotlib.pyplot as plt\n",
    "import json\n",
    "import time\n",
    "########################################\n",
    "#             SIMULATION LIBRARIES\n",
    "########################################\n",
    "from lemer.rngs import MultiStreamRNG\n",
    "from lemer.rvms import *\n",
    "\n",
    "from simulator.simulation import Simulation"
   ]
  },
  {
   "cell_type": "code",
   "execution_count": 5,
   "id": "b2b3706e543fd3d",
   "metadata": {
    "ExecuteTime": {
     "end_time": "2025-08-08T07:19:18.210109Z",
     "start_time": "2025-08-08T07:19:18.203440Z"
    }
   },
   "outputs": [],
   "source": [
    "#Load config\n",
    "cfg_1 = \"config_obj1.json\"\n",
    "\n",
    "all_sim = []\n",
    "all_sim_per_node = []\n",
    "cfg_1_json: dict = json.load(open(cfg_1))\n",
    "cfg_1_json['max_events'] = 1000000\n"
   ]
  },
  {
   "cell_type": "code",
   "execution_count": 6,
   "id": "e7fd677c",
   "metadata": {},
   "outputs": [
    {
     "name": "stdout",
     "output_type": "stream",
     "text": [
      "simulation 1/15 with arrival rate 0.5 completed. 15.751 seconds\n",
      "simulation 2/15 with arrival rate 0.55 completed. 15.125 seconds\n",
      "simulation 3/15 with arrival rate 0.6 completed. 15.398 seconds\n",
      "simulation 4/15 with arrival rate 0.65 completed. 15.514 seconds\n",
      "simulation 5/15 with arrival rate 0.7 completed. 15.611 seconds\n",
      "simulation 6/15 with arrival rate 0.75 completed. 15.921 seconds\n",
      "simulation 7/15 with arrival rate 0.8 completed. 17.112 seconds\n",
      "simulation 8/15 with arrival rate 0.85 completed. 18.379 seconds\n",
      "simulation 9/15 with arrival rate 0.9 completed. 18.597 seconds\n",
      "simulation 10/15 with arrival rate 0.95 completed. 18.578 seconds\n",
      "simulation 11/15 with arrival rate 1.0 completed. 16.900 seconds\n",
      "simulation 12/15 with arrival rate 1.05 completed. 17.170 seconds\n",
      "simulation 13/15 with arrival rate 1.1 completed. 17.692 seconds\n",
      "simulation 14/15 with arrival rate 1.15 completed. 18.251 seconds\n",
      "simulation 15/15 with arrival rate 1.2 completed. 19.794 seconds\n"
     ]
    },
    {
     "data": {
      "image/png": "[encoded data removed]",
      "text/plain": [
       "<Figure size 640x480 with 1 Axes>"
      ]
     },
     "metadata": {},
     "output_type": "display_data"
    }
   ],
   "source": [
    "ovs = {\n",
    "    \"arrival_rate\": [],\n",
    "    \"mean_response_time\": []\n",
    "}\n",
    "pns = {\n",
    "    \"Server A\" : {\n",
    "        \"arrival_rate\": [],\n",
    "        \"mean_response_time\": []\n",
    "        },\n",
    "    \"Server B\": {\n",
    "        \"arrival_rate\": [],\n",
    "        \"mean_response_time\": []\n",
    "        },\n",
    "    \"Server P\": {\n",
    "        \"arrival_rate\": [],\n",
    "        \"mean_response_time\": []\n",
    "        }\n",
    "}\n",
    "counter = 1\n",
    "simulations = np.arange(0.5, 1.25, 0.05)\n",
    "size = len(simulations)\n",
    "for x in simulations:  \n",
    "    arrival_rate = round(x, 2)\n",
    "    cfg_1_json[\"arrival_rate\"] = arrival_rate\n",
    "    sim = Simulation(cfg=cfg_1_json, seed=12345)\n",
    "    start = time.perf_counter()\n",
    "    overall, per_node = sim.run()\n",
    "    end = time.perf_counter()\n",
    "    elapsed = end - start\n",
    "    print(f\"simulation {counter}/{size} with arrival rate {arrival_rate} completed. {elapsed:.3f} seconds\")\n",
    "    counter += 1\n",
    "    ovs[\"arrival_rate\"].append(arrival_rate)\n",
    "    ovs[\"mean_response_time\"].append(overall['mean_response_time'])\n",
    "\n",
    "\n",
    "df = pd.DataFrame(ovs)\n",
    "plt.plot(df['arrival_rate'], df['mean_response_time'], marker='o')\n",
    "plt.xlabel('Arrival Rate (λ)')\n",
    "plt.ylabel('Mean Response Time (s)')\n",
    "plt.grid(True)\n",
    "plt.show()"
   ]
  },
  {
   "cell_type": "code",
   "execution_count": null,
   "id": "3592d956",
   "metadata": {},
   "outputs": [],
   "source": []
  }
 ],
 "metadata": {
  "kernelspec": {
   "display_name": ".venv",
   "language": "python",
   "name": "python3"
  },
  "language_info": {
   "codemirror_mode": {
    "name": "ipython",
    "version": 3
   },
   "file_extension": ".py",
   "mimetype": "text/x-python",
   "name": "python",
   "nbconvert_exporter": "python",
   "pygments_lexer": "ipython3",
   "version": "3.12.10"
  }
 },
 "nbformat": 4,
 "nbformat_minor": 5
}
