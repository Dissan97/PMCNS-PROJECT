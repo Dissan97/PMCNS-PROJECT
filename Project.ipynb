{
 "cells": [
  {
   "cell_type": "code",
   "execution_count": 2,
   "id": "f1555ea8-7363-4110-9247-7aff919bf9ae",
   "metadata": {
    "tags": []
   },
   "outputs": [],
   "source": [
    "########################################\n",
    "#\n",
    "#             PATH SETUP\n",
    "#\n",
    "########################################\n",
    "\n",
    "import sys\n",
    "import os\n",
    "sys.path.insert(0, os.path.abspath(\".\"))"
   ]
  },
  {
   "cell_type": "code",
   "execution_count": null,
   "id": "33736d9c-71b3-4c57-9fea-ec019a214abf",
   "metadata": {},
   "outputs": [],
   "source": []
  },
  {
   "cell_type": "code",
   "execution_count": 3,
   "id": "1086980f-7e90-4758-8a2d-f4708c182a76",
   "metadata": {
    "tags": []
   },
   "outputs": [],
   "source": [
    "from lemer.rngs import MultiStreamRNG\n",
    "from lemer.rvms import *"
   ]
  },
  {
   "cell_type": "code",
   "execution_count": null,
   "id": "5c130baf-0966-4e12-98f6-a799ab38bbed",
   "metadata": {
    "tags": []
   },
   "outputs": [],
   "source": []
  },
  {
   "cell_type": "code",
   "execution_count": 4,
   "id": "1c24efda-e90e-4c8f-b20e-31a1062b65f8",
   "metadata": {
    "tags": []
   },
   "outputs": [
    {
     "name": "stdout",
     "output_type": "stream",
     "text": [
      "mean 1= 0.26995601334253494, mean 2= 0.48669599110497475, mean 3= 1.502576617212265\n"
     ]
    }
   ],
   "source": [
    "s1 = 0\n",
    "s2 = 0\n",
    "s3 = 0\n",
    "multi_stream_rng = MultiStreamRNG(1234)\n",
    "c = 10000\n",
    "m = 1.5\n",
    "for i in range(c):\n",
    "    x = multi_stream_rng.random()\n",
    "    s1 += cdfExponential(m=m, x=x)\n",
    "    s2 += pdfExponential(m=m, x=x)\n",
    "    s3 += idfExponential(m=m, u=x)\n",
    "\n",
    "print(f\"mean 1= {s1 / c}, mean 2= {s2 / c}, mean 3= {s3/c}\")"
   ]
  },
  {
   "cell_type": "code",
   "execution_count": 5,
   "id": "104a90a1-a580-42df-9426-1a0e4ce7e923",
   "metadata": {},
   "outputs": [
    {
     "name": "stdout",
     "output_type": "stream",
     "text": [
      "hello i am under the water plz help me\n"
     ]
    }
   ],
   "source": [
    "print(\"hello i am under the water plz help me\")"
   ]
  }
 ],
 "metadata": {
  "kernelspec": {
   "display_name": ".venv (3.12.9)",
   "language": "python",
   "name": "python3"
  },
  "language_info": {
   "codemirror_mode": {
    "name": "ipython",
    "version": 3
   },
   "file_extension": ".py",
   "mimetype": "text/x-python",
   "name": "python",
   "nbconvert_exporter": "python",
   "pygments_lexer": "ipython3",
   "version": "3.12.9"
  }
 },
 "nbformat": 4,
 "nbformat_minor": 5
}
